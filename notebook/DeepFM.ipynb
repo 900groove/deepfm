{
 "cells": [
  {
   "cell_type": "code",
   "execution_count": null,
   "metadata": {
    "colab": {},
    "colab_type": "code",
    "id": "uvYHDt49wq9-"
   },
   "outputs": [],
   "source": [
    "import numpy as np\n",
    "import pandas as pd\n",
    "import gc\n",
    "from sklearn.preprocessing import LabelEncoder\n",
    "\n",
    "import torch\n",
    "import torch.optim as optim\n",
    "import torch.nn as nn\n",
    "import torch.nn.functional as F\n",
    "from torch.utils.data import DataLoader, Dataset\n",
    "from torch.utils.data import sampler\n",
    "\n",
    "pd.set_option('max_columns', 200)"
   ]
  },
  {
   "cell_type": "code",
   "execution_count": null,
   "metadata": {
    "colab": {},
    "colab_type": "code",
    "id": "wBwaQiVByB8v"
   },
   "outputs": [],
   "source": [
    "df = pd.read_csv('../data/raw/train.txt', delimiter='\\t', header=None)"
   ]
  },
  {
   "cell_type": "code",
   "execution_count": null,
   "metadata": {
    "colab": {
     "base_uri": "https://localhost:8080/",
     "height": 34
    },
    "colab_type": "code",
    "id": "GUvBH_igyOs5",
    "outputId": "218615b8-7ad6-4f29-8b9d-b120b6591600"
   },
   "outputs": [
    {
     "data": {
      "text/plain": [
       "22"
      ]
     },
     "execution_count": 4,
     "metadata": {
      "tags": []
     },
     "output_type": "execute_result"
    }
   ],
   "source": [
    "train = df.iloc[:, 1:]\n",
    "target = df.iloc[:, 0]\n",
    "\n",
    "del df\n",
    "gc.collect()"
   ]
  },
  {
   "cell_type": "code",
   "execution_count": null,
   "metadata": {
    "colab": {},
    "colab_type": "code",
    "id": "7xwtAvEW0WKv"
   },
   "outputs": [],
   "source": [
    "# カテゴリ値をラベルエンコーディングする\n",
    "# 連続値は区間を100に分けた後、カテゴリ値として上記の処理を行う\n",
    "\n",
    "indexer = {}\n",
    "feature_size = {}\n",
    "for col in train.columns:\n",
    "    if train[col].dtype == 'object':\n",
    "        train[col] = train[col].astype(str)\n",
    "        le = LabelEncoder()\n",
    "        train[col] = le.fit_transform(train[col])\n",
    "        indexer[col] = le\n",
    "        feature_size[col] = len(le.classes_)\n",
    "    else:\n",
    "        train[col] = pd.cut(train[col], 100, labels=False)\n",
    "        train[col] = train[col].astype(str)\n",
    "        le = LabelEncoder()\n",
    "        train[col] = le.fit_transform(train[col])\n",
    "        indexer[col] = le\n",
    "        feature_size[col] = len(le.classes_)"
   ]
  },
  {
   "cell_type": "code",
   "execution_count": null,
   "metadata": {
    "colab": {},
    "colab_type": "code",
    "id": "pUXQ28eY0yQ_"
   },
   "outputs": [],
   "source": [
    "class CrickDataset(Dataset):\n",
    "    def __init__(self, X, y):\n",
    "        self.X = X\n",
    "        self.y = y\n",
    "        \n",
    "    def __len__(self):\n",
    "        return self.X.shape[0]\n",
    "    \n",
    "    def __getitem__(self, idx):\n",
    "        dataI, targetI = self.X[idx, :], self.y[idx]\n",
    "        Xi = torch.from_numpy(dataI.astype(np.int32)).unsqueeze(-1)\n",
    "        Xv = torch.from_numpy(np.ones_like(dataI))\n",
    "        return Xi, Xv, targetI"
   ]
  },
  {
   "cell_type": "code",
   "execution_count": null,
   "metadata": {
    "colab": {},
    "colab_type": "code",
    "id": "LuSyiZA201m3"
   },
   "outputs": [],
   "source": [
    "class DeepFM(nn.Module):\n",
    "    def __init__(self,\n",
    "                 feature_size,\n",
    "                 embedding_size=4,\n",
    "                 hidden_dim=[64, 32],\n",
    "                 num_classes=[2],\n",
    "                 dropout=[0.5, 0.5],\n",
    "                 device='cuda'):\n",
    "        \n",
    "        super().__init__()\n",
    "        self.field_size = len(feature_size)\n",
    "        self.feature_size = feature_size\n",
    "        self.emb_size = embedding_size\n",
    "        self.hidden_dims = hidden_dim\n",
    "        self.num_classes = num_classes\n",
    "        self.device = device\n",
    "        self.bias = torch.nn.Parameter(torch.randn(1))\n",
    "        \n",
    "        # factorization machine\n",
    "        self.fm_first_order_emb = nn.ModuleList([nn.Embedding(size, 1) for size in self.feature_size])\n",
    "        self.fm_second_order_emb = nn.ModuleList([nn.Embedding(size, self.emb_size) for size in self.feature_size])\n",
    "        \n",
    "        # neural network\n",
    "        all_dims = [self.field_size * self.emb_size] + self.hidden_dims + [self.num_classes]\n",
    "        for i in range(1, len(hidden_dim) + 1):\n",
    "            setattr(self, 'linear_' + str(i), nn.Linear(all_dims[i-1], all_dims[i]))\n",
    "            setattr(self, 'relu_' + str(i), F.relu)\n",
    "            setattr(self, 'batchNorm_' + str(i), nn.BatchNorm1d(all_dims[i]))\n",
    "            setattr(self, 'dropout_' + str(i), nn.Dropout(dropout[i-1]))\n",
    "            \n",
    "    def forward(self, Xi, Xv):\n",
    "        # factorization machine\n",
    "        fm_first_order_emb_arr = [(torch.sum(emb(Xi[:, i, :]), 1).t()) for i, emb in enumerate(self.fm_first_order_emb)]        \n",
    "        fm_first_order = torch.cat(fm_first_order_emb_arr, 1)\n",
    "        fm_second_order_emb_arr = [(torch.sum(emb(Xi[:, i, :]), 1).t() * Xv[:, i]).t() for i, emb in enumerate(self.fm_second_order_emb)]\n",
    "        fm_sum_second_order_emb = sum(fm_second_order_emb_arr)\n",
    "        fm_sum_second_order_emb_square = fm_sum_second_order_emb * fm_sum_second_order_emb\n",
    "        fm_second_order_emb_square = [item*item for item in fm_second_order_emb_arr]\n",
    "        fm_second_order_emb_square_sum = sum(fm_second_order_emb_square)\n",
    "        fm_second_order = (fm_sum_second_order_emb_square - fm_second_order_emb_square_sum) * 0.5\n",
    "        \n",
    "        # neural network\n",
    "        deep_emb = torch.cat(fm_second_order_emb_arr, 1)\n",
    "        deep_out = deep_emb\n",
    "        for i in range(1, len(self.hidden_dims) + 1):\n",
    "            deep_out = getattr(self, 'linear_' + str(i))(deep_out)\n",
    "            deep_out = getattr(self, 'relu_' + str(i))(deep_out)\n",
    "            deep_out = getattr(self, 'batchNorm_' + str(i))(deep_out)\n",
    "            deep_out = getattr(self, 'dropout_' + str(i))(deep_out)\n",
    "            \n",
    "        total_sum = torch.sum(fm_first_order, 1) + torch.sum(fm_second_order, 1) + torch.sum(deep_out, 1) + self.bias\n",
    "        \n",
    "        return total_sum"
   ]
  },
  {
   "cell_type": "code",
   "execution_count": null,
   "metadata": {
    "colab": {},
    "colab_type": "code",
    "id": "93Vo266C00Eo"
   },
   "outputs": [],
   "source": [
    "dataset = CrickDataset(train.values, target.values)\n",
    "dataloader = DataLoader(dataset, batch_size=2048, shuffle=True)"
   ]
  },
  {
   "cell_type": "code",
   "execution_count": null,
   "metadata": {
    "colab": {},
    "colab_type": "code",
    "id": "hcgpnCAZ05wn"
   },
   "outputs": [],
   "source": [
    "model = DeepFM(list(feature_size.values())).to('cuda')\n",
    "optimizer = optim.Adam(model.parameters(), lr=0.001, weight_decay=0.001)\n",
    "criterion = nn.BCEWithLogitsLoss()"
   ]
  },
  {
   "cell_type": "code",
   "execution_count": null,
   "metadata": {
    "colab": {
     "base_uri": "https://localhost:8080/",
     "height": 136
    },
    "colab_type": "code",
    "id": "vprYbPic08rv",
    "outputId": "0e3827a3-c1d7-4b97-b01a-4731fa1dd6b8"
   },
   "outputs": [
    {
     "name": "stdout",
     "output_type": "stream",
     "text": [
      "Iteration 0, loss = 3490.4141\n",
      "Iteration 500, loss = 122.6345\n",
      "Iteration 1000, loss = 35.1010\n",
      "Iteration 1500, loss = 26.4739\n",
      "Iteration 2000, loss = 57.9670\n",
      "Iteration 2500, loss = 41.6059\n",
      "Iteration 3000, loss = 56.1174\n"
     ]
    }
   ],
   "source": [
    "loss_score = []\n",
    "for _ in range(1):\n",
    "    for t, (xi, xv, y) in enumerate(dataloader):\n",
    "        xi = xi.to(device='cuda', dtype=torch.long)\n",
    "        xv = xv.to(device='cuda', dtype=torch.float)\n",
    "        y = y.to(device='cuda', dtype=torch.float)\n",
    "\n",
    "        total = model(xi, xv)\n",
    "        loss = criterion(total, y)\n",
    "        loss_score.append(loss.item())\n",
    "        optimizer.zero_grad()\n",
    "        loss.backward()\n",
    "        optimizer.step()\n",
    "\n",
    "        if t % 500 == 0:\n",
    "            print('Iteration %d, loss = %.4f' % (t, loss.item()))"
   ]
  },
  {
   "cell_type": "code",
   "execution_count": null,
   "metadata": {
    "colab": {
     "base_uri": "https://localhost:8080/",
     "height": 320
    },
    "colab_type": "code",
    "id": "wl8FToTE1f_Y",
    "outputId": "d5e66225-863a-4158-fa40-807d79bd6041"
   },
   "outputs": [
    {
     "data": {
      "image/png": "[encoded data removed]",
      "text/plain": [
       "<Figure size 720x360 with 1 Axes>"
      ]
     },
     "metadata": {
      "tags": []
     },
     "output_type": "display_data"
    }
   ],
   "source": [
    "import matplotlib.pyplot as plt\n",
    "%matplotlib inline\n",
    "\n",
    "fig = plt.figure(figsize=(10, 5))\n",
    "ax = fig.add_subplot(111) #...2\n",
    "ax.plot(loss_score, label=\"error\")\n",
    "plt.legend()\n",
    "plt.show()"
   ]
  },
  {
   "cell_type": "code",
   "execution_count": null,
   "metadata": {
    "colab": {},
    "colab_type": "code",
    "id": "E6YmhMqS4Bmy"
   },
   "outputs": [],
   "source": []
  }
 ],
 "metadata": {
  "accelerator": "GPU",
  "colab": {
   "collapsed_sections": [],
   "name": "DeepFM.ipynb",
   "provenance": [],
   "version": "0.3.2"
  },
  "kernelspec": {
   "display_name": "Python 3",
   "language": "python",
   "name": "python3"
  },
  "language_info": {
   "codemirror_mode": {
    "name": "ipython",
    "version": 3
   },
   "file_extension": ".py",
   "mimetype": "text/x-python",
   "name": "python",
   "nbconvert_exporter": "python",
   "pygments_lexer": "ipython3",
   "version": "3.6.4"
  }
 },
 "nbformat": 4,
 "nbformat_minor": 2
}
